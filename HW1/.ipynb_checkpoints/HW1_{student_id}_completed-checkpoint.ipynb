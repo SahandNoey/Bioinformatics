{
 "cells": [
  {
   "cell_type": "markdown",
   "metadata": {
    "collapsed": true,
    "slideshow": {
     "slide_type": "slide"
    }
   },
   "source": [
    "# Assignment 1: Python Basics\n",
    "In this Python notebook, you'll find a mix of learning materials and challenges designed to introduce you to basic Python skills, particularly in the context of bioinformatics. The learning sections will provide you with explanations and examples to help you understand key concepts, but you're not required to submit anything from these sections—they're here to support your learning.\n",
    "\n",
    "Your task is to focus on the `challenges`, where you'll apply what you've learned and demonstrate your understanding. Make sure to complete the challenges and feel free to refer back to the learning sections as needed!\n",
    "\n",
    "**Total Points = 100 + 5 Bonus**"
   ]
  },
  {
   "cell_type": "markdown",
   "metadata": {
    "slideshow": {
     "slide_type": "slide"
    }
   },
   "source": [
    "## Using Jupyter notebooks: a quick tour\n",
    "\n",
    "***Insert -> Insert Cell Below***\n",
    "\n",
    "Type Python code in the cell, eg:\n",
    "\n",
    "```\n",
    "print(\"Hello Jupyter !\")\n",
    "```\n",
    "\n",
    "***Shift-Enter*** to run the contents of the cell\n",
    "\n",
    "When the text on the left hand of the cell is: `In [*]` (with an asterisk rather than a number), the cell is still running. It's usually best to wait until one cell has finished running before running the next."
   ]
  },
  {
   "cell_type": "code",
   "execution_count": null,
   "metadata": {
    "slideshow": {
     "slide_type": "-"
    }
   },
   "outputs": [],
   "source": [
    "print(\"Hello Jupyter !\")"
   ]
  },
  {
   "cell_type": "markdown",
   "metadata": {
    "slideshow": {
     "slide_type": "slide"
    }
   },
   "source": [
    "In Jupyter, just typing the name of a variable in the cell prints its representation:"
   ]
  },
  {
   "cell_type": "code",
   "execution_count": null,
   "metadata": {
    "slideshow": {
     "slide_type": "-"
    }
   },
   "outputs": [],
   "source": [
    "message = \"Hello again !\"\n",
    "message"
   ]
  },
  {
   "cell_type": "code",
   "execution_count": null,
   "metadata": {
    "slideshow": {
     "slide_type": "slide"
    }
   },
   "outputs": [],
   "source": [
    "letters = \"ABACBS\"\n",
    "type_of_letters = type(letters)\n",
    "type_of_letters"
   ]
  },
  {
   "cell_type": "markdown",
   "metadata": {
    "slideshow": {
     "slide_type": "slide"
    }
   },
   "source": [
    "## Variables and data types\n",
    "### Integers, floats, strings"
   ]
  },
  {
   "cell_type": "code",
   "execution_count": 14,
   "metadata": {
    "slideshow": {
     "slide_type": "-"
    }
   },
   "outputs": [],
   "source": [
    "fruits = ['banana', 'cherry', 'strawberry', 'orange']\n",
    "red_fruits = [fruit for fruit in fruits if fruit in ['cherry', 'strawberry']]\n",
    "red_fruits"
   ]
  },
  {
   "cell_type": "code",
   "execution_count": null,
   "metadata": {},
   "outputs": [],
   "source": [
    "a"
   ]
  },
  {
   "cell_type": "code",
   "execution_count": null,
   "metadata": {},
   "outputs": [],
   "source": [
    "type(a)"
   ]
  },
  {
   "cell_type": "markdown",
   "metadata": {},
   "source": [
    "Adding a decimal point creates a `float`"
   ]
  },
  {
   "cell_type": "code",
   "execution_count": 17,
   "metadata": {},
   "outputs": [],
   "source": [
    "b = 5.0"
   ]
  },
  {
   "cell_type": "code",
   "execution_count": null,
   "metadata": {},
   "outputs": [],
   "source": [
    "b"
   ]
  },
  {
   "cell_type": "code",
   "execution_count": null,
   "metadata": {},
   "outputs": [],
   "source": [
    "type(b)"
   ]
  },
  {
   "cell_type": "markdown",
   "metadata": {
    "collapsed": true,
    "slideshow": {
     "slide_type": "slide"
    }
   },
   "source": [
    "`int` and `float` are collectively called 'numeric' types\n",
    "\n",
    "(There are also other numeric types like `hex` for hexidemical and `complex` for complex numbers)"
   ]
  },
  {
   "cell_type": "markdown",
   "metadata": {
    "tags": [
     "challenge"
    ]
   },
   "source": [
    "## Challenge (5 Points)\n",
    "\n",
    "What is the type of the variable `letters` defined below ?\n",
    "\n",
    "`letters = \"ABACBS\"`"
   ]
  },
  {
   "cell_type": "markdown",
   "metadata": {
    "tags": [
     "solution"
    ]
   },
   "source": [
    "## Solution"
   ]
  },
  {
   "cell_type": "code",
   "execution_count": 20,
   "metadata": {
    "tags": [
     "solution"
    ]
   },
   "outputs": [],
   "source": [
    "# Write your code here"
   ]
  },
  {
   "cell_type": "markdown",
   "metadata": {
    "slideshow": {
     "slide_type": "slide"
    }
   },
   "source": [
    "### Strings"
   ]
  },
  {
   "cell_type": "code",
   "execution_count": 21,
   "metadata": {},
   "outputs": [],
   "source": [
    "some_words = \"Python3 strings are Unicode (UTF-8) ❤❤❤ 😸 蛇\""
   ]
  },
  {
   "cell_type": "code",
   "execution_count": null,
   "metadata": {},
   "outputs": [],
   "source": [
    "some_words"
   ]
  },
  {
   "cell_type": "code",
   "execution_count": null,
   "metadata": {},
   "outputs": [],
   "source": [
    "type(some_words)"
   ]
  },
  {
   "cell_type": "code",
   "execution_count": null,
   "metadata": {
    "slideshow": {
     "slide_type": "subslide"
    }
   },
   "outputs": [],
   "source": [
    "more_words = 'You can use \"single\" quotes'\n",
    "more_words"
   ]
  },
  {
   "cell_type": "code",
   "execution_count": null,
   "metadata": {
    "slideshow": {
     "slide_type": "subslide"
    }
   },
   "outputs": [],
   "source": [
    "triple_quoted_multiline = \"\"\"In the last years of the nineteenth centuary,\n",
    "human affairs were being watched from the timeless worlds of space.\n",
    "Nobody would have believed that we were being scrutinized as a ....\n",
    "\n",
    ".. etc ..\n",
    "\"\"\"\n",
    "\n",
    "print(triple_quoted_multiline)"
   ]
  },
  {
   "cell_type": "code",
   "execution_count": null,
   "metadata": {
    "slideshow": {
     "slide_type": "subslide"
    }
   },
   "outputs": [],
   "source": [
    "# You can substitute variables into a string like this.\n",
    "# The variables listed after the string replace each `{0}`, `{1}` etc, in order\n",
    "\n",
    "formatted = \"{0} and BTW, did I mention that {1}\".format(more_words, some_words)\n",
    "print(formatted)\n",
    "\n",
    "# The example above is 'new-style' string formatting. \n",
    "# You may also see 'old-style' (C-style) string formatting in examples, which looks like: \n",
    "\n",
    "oldskool = \"%s and BTW, did I mention that %s\" % (more_words, some_words)\n",
    "print(oldskool)\n",
    "\n",
    "# And here's how you do it with an f-string:\n",
    "f_string = f\"{more_words} and BTW, did I mention that {some_words}\"\n",
    "print(f_string)\n",
    "\n",
    "# There's lots of fancy ways to format numbers in strings (eg number of decimal places, scientific notation)\n",
    "# we won't go into today. See: https://pyformat.info/"
   ]
  },
  {
   "cell_type": "markdown",
   "metadata": {
    "slideshow": {
     "slide_type": "slide"
    }
   },
   "source": [
    "## Operators\n",
    "\n",
    "`+`  `-`  `*`  `/`  `%`  `**`  `//`  \n",
    "\n",
    "`+=`  `*=`  `-=`  `/=`"
   ]
  },
  {
   "cell_type": "code",
   "execution_count": null,
   "metadata": {
    "slideshow": {
     "slide_type": "slide"
    }
   },
   "outputs": [],
   "source": [
    "# int + int = int\n",
    "a = 5\n",
    "a + 1"
   ]
  },
  {
   "cell_type": "code",
   "execution_count": null,
   "metadata": {},
   "outputs": [],
   "source": [
    "# float + int = float\n",
    "b = 5.0\n",
    "b + 1"
   ]
  },
  {
   "cell_type": "code",
   "execution_count": null,
   "metadata": {},
   "outputs": [],
   "source": [
    "a + b"
   ]
  },
  {
   "cell_type": "code",
   "execution_count": null,
   "metadata": {
    "slideshow": {
     "slide_type": "slide"
    }
   },
   "outputs": [],
   "source": [
    "# Sequences of different types can’t be concatenated\n",
    "some_words = \"Python3 strings are Unicode (UTF-8) ❤❤❤ 😸 蛇\"\n",
    "a = 9\n",
    "a + some_words"
   ]
  },
  {
   "cell_type": "code",
   "execution_count": null,
   "metadata": {},
   "outputs": [],
   "source": [
    "dna_seq = 'ATGCTAGACGTCCTCAGATAGCCG'\n",
    "tata_box = 'TATAAA'\n",
    "tata_box + dna_seq"
   ]
  },
  {
   "cell_type": "code",
   "execution_count": null,
   "metadata": {},
   "outputs": [],
   "source": [
    "str(a) + \" \" + some_words"
   ]
  },
  {
   "cell_type": "code",
   "execution_count": null,
   "metadata": {
    "slideshow": {
     "slide_type": "slide"
    }
   },
   "outputs": [],
   "source": [
    "# Multiplication\n",
    "a * 10"
   ]
  },
  {
   "cell_type": "code",
   "execution_count": null,
   "metadata": {},
   "outputs": [],
   "source": [
    "# Division\n",
    "a / 2"
   ]
  },
  {
   "cell_type": "code",
   "execution_count": null,
   "metadata": {},
   "outputs": [],
   "source": [
    "# Floor division (returns the quotient without the remainder)\n",
    "a // 2"
   ]
  },
  {
   "cell_type": "code",
   "execution_count": null,
   "metadata": {},
   "outputs": [],
   "source": [
    "# Power\n",
    "a**2"
   ]
  },
  {
   "cell_type": "code",
   "execution_count": null,
   "metadata": {},
   "outputs": [],
   "source": [
    "# Modulus - divide as whole numbers and return the remainder\n",
    "a % 2"
   ]
  },
  {
   "cell_type": "code",
   "execution_count": null,
   "metadata": {},
   "outputs": [],
   "source": [
    "# Shorthand: operators with assignment\n",
    "a += 1\n",
    "a"
   ]
  },
  {
   "cell_type": "markdown",
   "metadata": {
    "slideshow": {
     "slide_type": "slide"
    }
   },
   "source": [
    "## Lists and sequence types"
   ]
  },
  {
   "cell_type": "markdown",
   "metadata": {
    "slideshow": {
     "slide_type": "slide"
    }
   },
   "source": [
    "### Lists"
   ]
  },
  {
   "cell_type": "code",
   "execution_count": null,
   "metadata": {},
   "outputs": [],
   "source": [
    "numbers = [2, 4, 6, 8, 10]\n",
    "numbers"
   ]
  },
  {
   "cell_type": "code",
   "execution_count": null,
   "metadata": {},
   "outputs": [],
   "source": [
    "len(numbers)"
   ]
  },
  {
   "cell_type": "code",
   "execution_count": null,
   "metadata": {},
   "outputs": [],
   "source": [
    "# Lists can contain multiple data types\n",
    "mixed_list = [\"asdf\", 2, 3.142]\n",
    "mixed_list"
   ]
  },
  {
   "cell_type": "code",
   "execution_count": null,
   "metadata": {
    "slideshow": {
     "slide_type": "slide"
    }
   },
   "outputs": [],
   "source": [
    "list_of_lists = [mixed_list, numbers, ['a','b''c']]\n",
    "list_of_lists"
   ]
  },
  {
   "cell_type": "code",
   "execution_count": null,
   "metadata": {},
   "outputs": [],
   "source": [
    "numbers[0]"
   ]
  },
  {
   "cell_type": "code",
   "execution_count": null,
   "metadata": {},
   "outputs": [],
   "source": [
    "numbers[3]"
   ]
  },
  {
   "cell_type": "code",
   "execution_count": null,
   "metadata": {},
   "outputs": [],
   "source": [
    "numbers[3] = numbers[3] * 100\n",
    "numbers"
   ]
  },
  {
   "cell_type": "code",
   "execution_count": null,
   "metadata": {},
   "outputs": [],
   "source": [
    "numbers.append(12)\n",
    "numbers"
   ]
  },
  {
   "cell_type": "code",
   "execution_count": null,
   "metadata": {},
   "outputs": [],
   "source": [
    "numbers.extend([14, 16, 18])\n",
    "numbers"
   ]
  },
  {
   "cell_type": "code",
   "execution_count": null,
   "metadata": {},
   "outputs": [],
   "source": [
    "# The '+' operator for lists is equivalent to list.extend()\n",
    "numbers + [100, 200, 300, 400]"
   ]
  },
  {
   "cell_type": "markdown",
   "metadata": {
    "slideshow": {
     "slide_type": "slide"
    }
   },
   "source": [
    "### Tuples"
   ]
  },
  {
   "cell_type": "code",
   "execution_count": null,
   "metadata": {},
   "outputs": [],
   "source": [
    "tuples_are_immutable = (\"bar\", 100, 200, \"foo\")\n",
    "tuples_are_immutable"
   ]
  },
  {
   "cell_type": "code",
   "execution_count": null,
   "metadata": {},
   "outputs": [],
   "source": [
    "tuples_are_immutable[1]"
   ]
  },
  {
   "cell_type": "code",
   "execution_count": null,
   "metadata": {},
   "outputs": [],
   "source": [
    "# Tuples are immutable, meaning their elements cannot be changed after creation\n",
    "tuples_are_immutable[1] = 666"
   ]
  },
  {
   "cell_type": "markdown",
   "metadata": {
    "slideshow": {
     "slide_type": "slide"
    }
   },
   "source": [
    "### Sets"
   ]
  },
  {
   "cell_type": "code",
   "execution_count": null,
   "metadata": {},
   "outputs": [],
   "source": [
    "unique_items = set([1, 1, 2, 2, 3, 4, 1, 2, 3, 4])\n",
    "# or curly brackets\n",
    "# unique_items = {1, 1, 2, 2, 3, 4, 1, 2, 3, 4}\n",
    "unique_items"
   ]
  },
  {
   "cell_type": "markdown",
   "metadata": {
    "slideshow": {
     "slide_type": "slide"
    }
   },
   "source": [
    "### Slicing"
   ]
  },
  {
   "cell_type": "code",
   "execution_count": null,
   "metadata": {},
   "outputs": [],
   "source": [
    "numbers = [2, 4, 6, 8, 10, 12]\n",
    "\n",
    "# list[start:end]\n",
    "# start is inclusive, end isn't\n",
    "\n",
    "numbers[0:3]"
   ]
  },
  {
   "cell_type": "code",
   "execution_count": null,
   "metadata": {},
   "outputs": [],
   "source": [
    "numbers[4:7]"
   ]
  },
  {
   "cell_type": "code",
   "execution_count": null,
   "metadata": {},
   "outputs": [],
   "source": [
    "numbers[:3] # omitting start implies 0 (the very start)"
   ]
  },
  {
   "cell_type": "code",
   "execution_count": null,
   "metadata": {},
   "outputs": [],
   "source": [
    "numbers[3:] # omitting end means to the very end eg len(numbers)"
   ]
  },
  {
   "cell_type": "code",
   "execution_count": null,
   "metadata": {
    "slideshow": {
     "slide_type": "subslide"
    }
   },
   "outputs": [],
   "source": [
    "numbers[-1:] # negative values reverse direction"
   ]
  },
  {
   "cell_type": "code",
   "execution_count": null,
   "metadata": {},
   "outputs": [],
   "source": [
    "numbers[:-1]"
   ]
  },
  {
   "cell_type": "code",
   "execution_count": null,
   "metadata": {
    "slideshow": {
     "slide_type": "subslide"
    }
   },
   "outputs": [],
   "source": [
    "# you can also specify a step size\n",
    "# list[start:end:step]\n",
    "\n",
    "numbers[0:6:2]"
   ]
  },
  {
   "cell_type": "code",
   "execution_count": null,
   "metadata": {
    "slideshow": {
     "slide_type": "subslide"
    }
   },
   "outputs": [],
   "source": [
    "# [:] is a shorthand for copying a list.\n",
    "# Equivalent to:\n",
    "# n_copy = list(numbers)\n",
    "\n",
    "n_copy = numbers[:]\n",
    "n_copy"
   ]
  },
  {
   "cell_type": "code",
   "execution_count": null,
   "metadata": {},
   "outputs": [],
   "source": [
    "n_copy[3] = 8\n",
    "n_copy"
   ]
  },
  {
   "cell_type": "code",
   "execution_count": null,
   "metadata": {},
   "outputs": [],
   "source": [
    "numbers"
   ]
  },
  {
   "cell_type": "markdown",
   "metadata": {
    "slideshow": {
     "slide_type": "slide"
    },
    "tags": [
     "challenge"
    ]
   },
   "source": [
    "## Challenge (5 Points)\n",
    "\n",
    "Given the list: `['banana', 'cherry', 'strawberry', 'orange']`\n",
    "\n",
    "Return a list of just the red fruits."
   ]
  },
  {
   "cell_type": "markdown",
   "metadata": {
    "tags": [
     "solution"
    ]
   },
   "source": [
    "## Solution"
   ]
  },
  {
   "cell_type": "code",
   "execution_count": null,
   "metadata": {
    "slideshow": {
     "slide_type": "slide"
    },
    "tags": [
     "solution"
    ]
   },
   "outputs": [],
   "source": [
    "# Write your code here"
   ]
  },
  {
   "cell_type": "markdown",
   "metadata": {
    "slideshow": {
     "slide_type": "slide"
    }
   },
   "source": [
    "### Dictionaries\n",
    "\n",
    "Dictionaries store a mapping of key-value pairs. They are unordered. \n",
    "\n",
    "Other programming languages might call this a 'hash', 'hashtable' or 'hashmap'."
   ]
  },
  {
   "cell_type": "code",
   "execution_count": null,
   "metadata": {},
   "outputs": [],
   "source": [
    "pairs = {'Apple': 1, 'Orange': 2, 'Pear': 4}\n",
    "pairs"
   ]
  },
  {
   "cell_type": "code",
   "execution_count": null,
   "metadata": {},
   "outputs": [],
   "source": [
    "pairs['Orange']"
   ]
  },
  {
   "cell_type": "code",
   "execution_count": null,
   "metadata": {},
   "outputs": [],
   "source": [
    "pairs['Orange'] = 16\n",
    "pairs"
   ]
  },
  {
   "cell_type": "code",
   "execution_count": null,
   "metadata": {
    "slideshow": {
     "slide_type": "subslide"
    }
   },
   "outputs": [],
   "source": [
    "pairs.items()\n",
    "# list(pairs.items())"
   ]
  },
  {
   "cell_type": "code",
   "execution_count": null,
   "metadata": {
    "slideshow": {
     "slide_type": "subslide"
    }
   },
   "outputs": [],
   "source": [
    "pairs.values()\n",
    "# list(pairs.values())"
   ]
  },
  {
   "cell_type": "code",
   "execution_count": null,
   "metadata": {
    "slideshow": {
     "slide_type": "subslide"
    }
   },
   "outputs": [],
   "source": [
    "pairs.keys()\n",
    "# list(pairs.keys())"
   ]
  },
  {
   "cell_type": "code",
   "execution_count": null,
   "metadata": {
    "slideshow": {
     "slide_type": "subslide"
    }
   },
   "outputs": [],
   "source": [
    "len(pairs)"
   ]
  },
  {
   "cell_type": "code",
   "execution_count": null,
   "metadata": {
    "slideshow": {
     "slide_type": "subslide"
    }
   },
   "outputs": [],
   "source": [
    "dict_of_dicts = {'first': {1:2, 2: 4, 4: 8, 8: 16}, 'second': {'a': 2.2, 'b': 4.4}}\n",
    "dict_of_dicts"
   ]
  },
  {
   "cell_type": "markdown",
   "metadata": {
    "slideshow": {
     "slide_type": "slide"
    }
   },
   "source": [
    "## Functions"
   ]
  },
  {
   "cell_type": "markdown",
   "metadata": {},
   "source": [
    "Functions wrap up reusable pieces of code - the *DRY* principle\n",
    "\n",
    "Significant whitespace: the body of the function is indicated by indenting by 4 spaces\n",
    "\n",
    "*(We also use these indented blocks for if/else, for and while statements .. later !)*\n",
    "\n",
    "`return` statements immediately return a value (or `None` if no value is given)\n",
    "\n",
    "Any code in the function after the `return` statement does not get executed."
   ]
  },
  {
   "cell_type": "code",
   "execution_count": null,
   "metadata": {
    "slideshow": {
     "slide_type": "subslide"
    }
   },
   "outputs": [],
   "source": [
    "def square(x):\n",
    "    return x**2\n",
    "\n",
    "def hyphenate(a, b):\n",
    "    return a + '-' + b\n",
    "    print(\"We will never get here\")\n",
    "\n",
    "print(square(16), hyphenate('python', 'esque'))"
   ]
  },
  {
   "cell_type": "markdown",
   "metadata": {
    "slideshow": {
     "slide_type": "subslide"
    }
   },
   "source": [
    "### Indentation and whitespace\n",
    "\n",
    "* Python uses spaces at the start of a line to indicate a 'block' of code.\n",
    "* A new block of code should be indented by **four** spaces.\n",
    "\n",
    "* For a function, all the indented code is part of the the function.\n",
    "* This also applies to loops like `for` and `while` and conditionals like `if`\n",
    "\n",
    "(Indenting/dedenting by four spaces in Python is the equivalent to opening **{** and closing **}** curly brackets in languages like Java, Javascript, C, C++, C# etc)\n",
    "\n",
    "(You can technically use tab characters, but please don't. The official Python style guide prefers spaces https://www.python.org/dev/peps/pep-0008/)."
   ]
  },
  {
   "cell_type": "code",
   "execution_count": null,
   "metadata": {
    "slideshow": {
     "slide_type": "slide"
    }
   },
   "outputs": [],
   "source": [
    "# Functions can return multiple values (just return a tuple and unpack it)\n",
    "def lengths(a, b, c):\n",
    "    return len(a), len(b), len(c)\n",
    "\n",
    "x, y, z = lengths(\"long\", \"longer\", \"LONGEREST\")\n",
    "print(x, y, z)"
   ]
  },
  {
   "cell_type": "code",
   "execution_count": null,
   "metadata": {
    "slideshow": {
     "slide_type": "slide"
    },
    "tags": [
     "biosummer"
    ]
   },
   "outputs": [],
   "source": [
    "def split_at(seq, residue='K'):\n",
    "    \"\"\"\n",
    "    Takes a protein sequence (as a string) and splits it at each K residue,\n",
    "    or the residue specified in the `residue` keyword argument. Split point\n",
    "    residue is discarded.\n",
    "    \n",
    "    Returns a list of strings.\n",
    "    \"\"\"\n",
    "    return seq.split(residue)\n",
    "\n",
    "split_at('MILKGROGDRINKPINEAPPLE')"
   ]
  },
  {
   "cell_type": "code",
   "execution_count": 63,
   "metadata": {
    "slideshow": {
     "slide_type": "slide"
    }
   },
   "outputs": [],
   "source": [
    "# Functions can have an indeterminate number of arguments and keyword arguments using * and **\n",
    "import math\n",
    "\n",
    "def vector_magnitude(x, y, *args, **kwargs):\n",
    "    \n",
    "    # print(args)    # args is a tuple\n",
    "    # print(kwargs)  # kwargs is a dictionary\n",
    "    \n",
    "    scale = kwargs.get('scale', 1)\n",
    "    \n",
    "    vector = [x,y] + list(args)\n",
    "    return math.sqrt(sum(v**2 for v in vector)) * scale"
   ]
  },
  {
   "cell_type": "code",
   "execution_count": null,
   "metadata": {},
   "outputs": [],
   "source": [
    "print(vector_magnitude(1, 2, 4, 8, m=2))"
   ]
  },
  {
   "cell_type": "markdown",
   "metadata": {
    "slideshow": {
     "slide_type": "slide"
    }
   },
   "source": [
    "## Conditionals"
   ]
  },
  {
   "cell_type": "code",
   "execution_count": null,
   "metadata": {},
   "outputs": [],
   "source": [
    "a = 10\n",
    "b = 0\n",
    "a > 1"
   ]
  },
  {
   "cell_type": "code",
   "execution_count": null,
   "metadata": {
    "slideshow": {
     "slide_type": "subslide"
    }
   },
   "outputs": [],
   "source": [
    "if a > 1:\n",
    "    print(\"a is greater than one\")"
   ]
  },
  {
   "cell_type": "code",
   "execution_count": null,
   "metadata": {
    "slideshow": {
     "slide_type": "subslide"
    }
   },
   "outputs": [],
   "source": [
    "word = 'Bird'\n",
    "\n",
    "# Note: Double equals for a conditional vs single equals for assignment !\n",
    "if word == 'Bird':\n",
    "    print('Bird is the word.')\n",
    "    \n",
    "if word != 'Girt':\n",
    "    print('The word is not girt.')"
   ]
  },
  {
   "cell_type": "code",
   "execution_count": null,
   "metadata": {
    "slideshow": {
     "slide_type": "subslide"
    }
   },
   "outputs": [],
   "source": [
    "if 'ird' in word:\n",
    "    print(\"'ird' is in Bird.\")\n",
    "    \n",
    "letters = ['B', 'i', 'r', 'd']\n",
    "if 'i' in letters:\n",
    "    print(\"'i' is in letters.\")"
   ]
  },
  {
   "cell_type": "markdown",
   "metadata": {
    "slideshow": {
     "slide_type": "subslide"
    }
   },
   "source": [
    "*Protip*: Long lines can be split across two or more using a backslash ('\\')\n",
    "\n",
    "This can make your code more readable.\n",
    "\n",
    "There should be nothing after the backslash, including whitespace.\n",
    "\n",
    "Try to keep lines shorter than 78 characters for a PEP-8 style bonus."
   ]
  },
  {
   "cell_type": "code",
   "execution_count": null,
   "metadata": {
    "slideshow": {
     "slide_type": "subslide"
    }
   },
   "outputs": [],
   "source": [
    "if 'I' not in 'team' or \\\n",
    "   'I' not in 'TEAM':\n",
    "    print(\"There is no 'I' in team (or TEAM).\")"
   ]
  },
  {
   "cell_type": "code",
   "execution_count": null,
   "metadata": {
    "slideshow": {
     "slide_type": "subslide"
    }
   },
   "outputs": [],
   "source": [
    "# Boolean logic\n",
    "# True and True => True\n",
    "a > 1 and b <= 0"
   ]
  },
  {
   "cell_type": "code",
   "execution_count": null,
   "metadata": {},
   "outputs": [],
   "source": [
    "# True or False => True\n",
    "a > 1 or b > 1"
   ]
  },
  {
   "cell_type": "code",
   "execution_count": null,
   "metadata": {
    "slideshow": {
     "slide_type": "subslide"
    }
   },
   "outputs": [],
   "source": [
    "if a > 100:\n",
    "    print(\"a is greater than one hundred\")\n",
    "elif a > 50:\n",
    "    print(\"a is greater than fifty but less than one hundred\")\n",
    "else:\n",
    "    print(\"a is less than fifty\")\n",
    "    \n",
    "# For better or worse, there is no case/switch statement in Python - you just use if/elif/elif/else"
   ]
  },
  {
   "cell_type": "code",
   "execution_count": null,
   "metadata": {
    "slideshow": {
     "slide_type": "subslide"
    }
   },
   "outputs": [],
   "source": [
    "# Truthyness\n",
    "if a:\n",
    "    print(\"A non-zero int is truthy\")\n",
    "\n",
    "if not (a - 10):\n",
    "    print(\"The int 0 is 'falsey' ... not False => True !\")\n",
    "\n",
    "if '' or [] or () or dict():\n",
    "    print(\"We will never see this since an empty string, list, tuple and dict are all 'falsey'\")\n",
    "    \n",
    "if \"    \":\n",
    "    print(\"A non-empty string, even whitespace, is 'truthy\")"
   ]
  },
  {
   "cell_type": "markdown",
   "metadata": {
    "slideshow": {
     "slide_type": "slide"
    }
   },
   "source": [
    "## Loops"
   ]
  },
  {
   "cell_type": "markdown",
   "metadata": {
    "slideshow": {
     "slide_type": "subslide"
    }
   },
   "source": [
    "A `for` loop works on a sequence types, generators and iterators\n",
    "\n",
    "(this includes lists, tuples, strings and dictionaries)"
   ]
  },
  {
   "cell_type": "code",
   "execution_count": null,
   "metadata": {},
   "outputs": [],
   "source": [
    "for letter in \"GDLGGCPFLVAENKTGY\":\n",
    "    print(letter)"
   ]
  },
  {
   "cell_type": "code",
   "execution_count": null,
   "metadata": {
    "slideshow": {
     "slide_type": "subslide"
    }
   },
   "outputs": [],
   "source": [
    "ts = [('T', 99), ('C', 98), ('G', 97), ('A', 97)]\n",
    "\n",
    "for t in ts:\n",
    "    print(t)\n",
    "    \n",
    "# using tuple unpacking\n",
    "for m, n in ts:\n",
    "    print(m, n)"
   ]
  },
  {
   "cell_type": "code",
   "execution_count": null,
   "metadata": {
    "slideshow": {
     "slide_type": "subslide"
    }
   },
   "outputs": [],
   "source": [
    "# for on dictionary.items()\n",
    "d = {'A': 1, 'B': 2, 'C': 3}\n",
    "\n",
    "for item in d.items():\n",
    "    # print(type(item))\n",
    "    print(item)"
   ]
  },
  {
   "cell_type": "code",
   "execution_count": null,
   "metadata": {
    "slideshow": {
     "slide_type": "subslide"
    }
   },
   "outputs": [],
   "source": [
    "for k, v in d.items():\n",
    "    print(k, v)"
   ]
  },
  {
   "cell_type": "markdown",
   "metadata": {
    "slideshow": {
     "slide_type": "subslide"
    }
   },
   "source": [
    "`while` loops keep looping while their condition is true:\n",
    "\n",
    "```\n",
    "while some_condition:\n",
    "    do_stuff()\n",
    "```\n",
    "\n",
    "Note: If the condition for your `while` loops never becomes `False`, the loop will run forever (in Jupyter you can do *Kernel -> Interrupt* to break out of the infinite loop)."
   ]
  },
  {
   "cell_type": "code",
   "execution_count": null,
   "metadata": {},
   "outputs": [],
   "source": [
    "a = 0\n",
    "while a < 16:\n",
    "    print(a, end=' ')\n",
    "    a += 1"
   ]
  },
  {
   "cell_type": "markdown",
   "metadata": {
    "slideshow": {
     "slide_type": "subslide"
    }
   },
   "source": [
    "`break` immediately exits a loop\n",
    "\n",
    "`continue` immediately starts the next iteration of the loop\n",
    "\n",
    "Any code inside the loop after a `break` or `continue` is skipped."
   ]
  },
  {
   "cell_type": "code",
   "execution_count": null,
   "metadata": {},
   "outputs": [],
   "source": [
    "a = 0\n",
    "while True:\n",
    "    a += 1\n",
    "    \n",
    "    if a > 16:\n",
    "        break\n",
    "        print('We will never see this.')\n",
    "    \n",
    "    if a % 2:\n",
    "        continue\n",
    "        print('We will also never see this.')\n",
    "        \n",
    "    print(a, end=' ')"
   ]
  },
  {
   "cell_type": "markdown",
   "metadata": {},
   "source": [
    "## Challenge (15 Points)\n",
    "Write a Python function called `translate_sequence` that determines the sequence of amino acids in a protein starting from a given DNA sequence. The function should use a genetic code stored in a Python dictionary to perform the translation. The provided sequences are always of a length that is divisible by 3. Translation should be stopped immediately upon encountering a stop codon.\n",
    "\n",
    "`Hint:` According to the central dogma of biology, the flow of genetic information proceeds from DNA to RNA and then to protein. Ensure that you follow this sequence: first, convert the DNA to RNA, and then use the Standard Genetic Code to translate the RNA into a protein."
   ]
  },
  {
   "cell_type": "code",
   "execution_count": null,
   "metadata": {
    "tags": [
     "solution"
    ]
   },
   "outputs": [],
   "source": [
    "# Codon to amino acid mapping (Standard Genetic Code)\n",
    "STANDARD_GENETIC_CODE = {\n",
    "    'ATA':'I', 'ATC':'I', 'ATT':'I', 'ATG':'M',\n",
    "    'ACA':'T', 'ACC':'T', 'ACG':'T', 'ACT':'T',\n",
    "    'AAC':'N', 'AAT':'N', 'AAA':'K', 'AAG':'K',\n",
    "    'AGC':'S', 'AGT':'S', 'AGA':'R', 'AGG':'R',\n",
    "    'CTA':'L', 'CTC':'L', 'CTG':'L', 'CTT':'L',\n",
    "    'CCA':'P', 'CCC':'P', 'CCG':'P', 'CCT':'P',\n",
    "    'CAC':'H', 'CAT':'H', 'CAA':'Q', 'CAG':'Q',\n",
    "    'CGA':'R', 'CGC':'R', 'CGG':'R', 'CGT':'R',\n",
    "    'GTA':'V', 'GTC':'V', 'GTG':'V', 'GTT':'V',\n",
    "    'GCA':'A', 'GCC':'A', 'GCG':'A', 'GCT':'A',\n",
    "    'GAC':'D', 'GAT':'D', 'GAA':'E', 'GAG':'E',\n",
    "    'GGA':'G', 'GGC':'G', 'GGG':'G', 'GGT':'G',\n",
    "    'TCA':'S', 'TCC':'S', 'TCG':'S', 'TCT':'S',\n",
    "    'TTC':'F', 'TTT':'F', 'TTA':'L', 'TTG':'L',\n",
    "    'TAC':'Y', 'TAT':'Y', 'TAA':'_', 'TAG':'_',\n",
    "    'TGC':'C', 'TGT':'C', 'TGA':'_', 'TGG':'W',\n",
    "}\n",
    "\n",
    "def translate_sequence(dna_sequence):\n",
    "    protein = ''\n",
    "\n",
    "    # Write your code here\n",
    "    \n",
    "    return protein\n",
    "\n",
    "# Example DNA sequence\n",
    "dna_sequence = \"ATGGTGCATCTGACTCCTGAGGAGAAGTCTGCCGTTACTGCCCTGTGGGGCAAGGTG\"\n",
    "protein = translate_sequence(dna_sequence)\n",
    "print(\"Protein Sequence:\", protein) # output: MVHLTPEEKSAVTALWGKV\n"
   ]
  },
  {
   "cell_type": "markdown",
   "metadata": {
    "slideshow": {
     "slide_type": "slide"
    }
   },
   "source": [
    "### List comprehensions\n",
    "\n",
    "List comprehensions are a shorthand way to loop over a list, modify the items and create a new list."
   ]
  },
  {
   "cell_type": "code",
   "execution_count": null,
   "metadata": {
    "slideshow": {
     "slide_type": "subslide"
    }
   },
   "outputs": [],
   "source": [
    "# Instead of doing\n",
    "new_list = []\n",
    "for i in range(0,11):\n",
    "    new_list.append(i**2)\n",
    "\n",
    "new_list"
   ]
  },
  {
   "cell_type": "code",
   "execution_count": null,
   "metadata": {},
   "outputs": [],
   "source": [
    "# Use a list comprehension instead\n",
    "new_list = [i**2 for i in range(0,11)]\n",
    "new_list"
   ]
  },
  {
   "cell_type": "code",
   "execution_count": null,
   "metadata": {
    "slideshow": {
     "slide_type": "subslide"
    }
   },
   "outputs": [],
   "source": [
    "# You can also `filter` values using an if statement inside the list comprehension\n",
    "new_list = [i**2 for i in range(0,11) if i < 4]\n",
    "new_list"
   ]
  },
  {
   "cell_type": "markdown",
   "metadata": {},
   "source": [
    "## Challenge (10 Points)\n",
    "Write a Python function to calculate the reverse complement of a DNA sequence represented as a string (A, T, C, G). The reverse complement is obtained by reversing the sequence and replacing each nucleotide with its complement:\n",
    "* A ↔ T\n",
    "* C ↔ G\n",
    "\n",
    "For example, the input \"AGCT\" should yield \"TCGA\". Use list comprehension to achieve this."
   ]
  },
  {
   "cell_type": "code",
   "execution_count": null,
   "metadata": {
    "tags": [
     "solution"
    ]
   },
   "outputs": [],
   "source": [
    "def reverse_complement(dna_sequence):\n",
    "    reversed_seq = ''\n",
    "\n",
    "    # Write your code here\n",
    "\n",
    "    return reversed_seq\n",
    "\n",
    "# Example\n",
    "input_sequence = \"AGCT\"\n",
    "output_sequence = reverse_complement(input_sequence)\n",
    "print(f\"Input Sequence: {input_sequence}\")\n",
    "print(f\"Reverse Complement: {output_sequence}\") # Output: TCGA"
   ]
  },
  {
   "cell_type": "markdown",
   "metadata": {},
   "source": [
    "## FASTA Parser\n",
    "Biological sequences are often stored in FASTA format.\n",
    "It looks like this:\n",
    "```python\n",
    ">sp|P0C8E7|EVA1_RHISA Evasin-1 OS=Rhipicephalus sanguineus PE=1 SV=1\n",
    "MTFKACIAIITALCAMQVICEDDEDYGDLGGCPFLVAENKTGYPTIVACKQDCNGTTETA\n",
    "PNGTRCFSIGDEGLRRMTANLPYDCPLGQCSNGDCIPKETYEVCYRRNWRDKKN\n",
    ">sp|P0C8E9|EVA4_RHISA Evasin-4 OS=Rhipicephalus sanguineus PE=1 SV=1\n",
    "MAFKYWFVFAAVLYARQWLSTKCEVPQMTSSSAPDLEEEDDYTAYAPLTCYFTNSTLGLL\n",
    "APPNCSVLCNSTTTWFNETSPNNASCLLTVDFLTQDAILQENQPYNCSVGHCDNGTCAGP\n",
    "PRHAQCW\n",
    "```\n",
    "\n",
    "A sequence in FASTA format consists of:\n",
    "* __One__ line starting with a `>` sign, followed by a sequence identification code.\n",
    "It is optionally be followed by a textual description of the sequence. Since it is not part of the official description of the format, software can choose to ignore this, when it is present.\n",
    "* __One__ or more lines containing the sequence itself.\n",
    "\n",
    "A file in FASTA format may comprise more than one sequence\n",
    "\n",
    "You can download files [HERE](https://drive.google.com/drive/folders/1hscLHkwvGfbdn9yD-NUYjw7twbdZ8Kju?usp=sharing)"
   ]
  },
  {
   "cell_type": "code",
   "execution_count": null,
   "metadata": {},
   "outputs": [],
   "source": [
    "# Start simple - just print the lines in the file\n",
    "# The evasins_5.fasta file contains just 2 sequences (5 lines), to make the Juypter output shorter\n",
    "with open('fasta_data.fasta', 'r') as handle:\n",
    "    for line in handle:\n",
    "        print(line)"
   ]
  },
  {
   "cell_type": "markdown",
   "metadata": {},
   "source": [
    "## Challenge (10 Points)\n",
    "Write a Python function that reads a FASTA file and prints only the text from the header lines. Header lines begin with a `>` symbol and typically contain important information about the sequence.\n",
    "\n",
    "Example:\n",
    "```\n",
    "sp|P0C8E7|EVA1_RHISA Evasin-1 OS=Rhipicephalus sanguineus PE=1 SV=1\n",
    "\n",
    ".. etc ...\n",
    "```"
   ]
  },
  {
   "cell_type": "code",
   "execution_count": null,
   "metadata": {
    "tags": [
     "solution"
    ]
   },
   "outputs": [],
   "source": [
    "def print_fasta_headers(file_path):\n",
    "\n",
    "    # write your code here\n",
    "    \n",
    "    return None\n",
    "\n",
    "fasta_file_path = 'fasta_data.fasta'\n",
    "print_fasta_headers(fasta_file_path)"
   ]
  },
  {
   "cell_type": "markdown",
   "metadata": {},
   "source": [
    "## Challenge (15 Points)\n",
    "Extend your previous work by writing a Python function that reads a FASTA file and parses its sequences into a dictionary. The keys of the dictionary should be the header lines (without the > symbol), and the values should be the corresponding nucleotide or protein sequences. Also, let's use the `OrderedDict` data structure from the `collections` module in the standard library so we maintain the order in the original FASTA file."
   ]
  },
  {
   "cell_type": "code",
   "execution_count": null,
   "metadata": {},
   "outputs": [],
   "source": [
    "from collections import OrderedDict\n",
    "\n",
    "def parse_fasta(file_path):\n",
    "    seqs = OrderedDict()\n",
    "\n",
    "    # Write your code here\n",
    "\n",
    "    return seqs\n",
    "\n",
    "seqs = parse_fasta('fasta_data.fasta')\n",
    "\n",
    "for seq_id, seq in seqs.items():\n",
    "    print(seq_id)\n",
    "    print(seq)\n",
    "    print()"
   ]
  },
  {
   "cell_type": "markdown",
   "metadata": {},
   "source": [
    "## Data Visualization\n",
    "Data visualization is essential for transforming complex datasets into easily interpretable graphical representations, helping to identify patterns and support decision-making.\n",
    "\n",
    "`Matplotlib` is a popular Python library for creating static, animated, and interactive visualizations. It offers versatile plotting capabilities, extensive customization options, and seamless integration with libraries like NumPy and Pandas. With Matplotlib, you can produce high-quality plots such as line charts, bar graphs, and scatter plots, making it suitable for various applications.\n",
    "\n",
    "To use Matplotlib, install it with:\n",
    "`pip install matplotlib`"
   ]
  },
  {
   "cell_type": "markdown",
   "metadata": {},
   "source": [
    "### Bar Chart"
   ]
  },
  {
   "cell_type": "code",
   "execution_count": null,
   "metadata": {},
   "outputs": [],
   "source": [
    "import matplotlib.pyplot as plt\n",
    "\n",
    "# Sample data\n",
    "nucleotide  = ['T', 'C', 'G', 'A']\n",
    "frequency = [3, 7, 1, 5]\n",
    "\n",
    "# Create a bar chart\n",
    "plt.bar(nucleotide, frequency, color='skyblue')\n",
    "\n",
    "# Add titles and labels\n",
    "plt.title('Nucleotide Frequencies in DNA Sequence')\n",
    "plt.xlabel('Nucleotide ')\n",
    "plt.ylabel('Frequency')\n",
    "\n",
    "# Show the plot\n",
    "plt.show()"
   ]
  },
  {
   "cell_type": "markdown",
   "metadata": {},
   "source": [
    "## Challenge (20 Points)\n",
    "In this exercise, you will write a Python script that reads the `fasta_data_complete.fasta` file, which contains protein sequences. Your goal is to analyze these sequences and generate a bar chart that visualizes the frequency of each amino acid present."
   ]
  },
  {
   "cell_type": "code",
   "execution_count": null,
   "metadata": {},
   "outputs": [],
   "source": [
    "# Write your code here"
   ]
  },
  {
   "cell_type": "markdown",
   "metadata": {},
   "source": [
    "## Challenge (25 Points)\n",
    "You are given a protein FASTA file, `fasta_data_complete.fasta`, containing multiple protein sequences. Your task is to visualize the distribution of these protein sequence lengths using a histogram."
   ]
  },
  {
   "cell_type": "code",
   "execution_count": null,
   "metadata": {},
   "outputs": [],
   "source": [
    "# Write your code here"
   ]
  }
 ],
 "metadata": {
  "celltoolbar": "Tags",
  "kernelspec": {
   "display_name": "Python 3",
   "language": "python",
   "name": "python3"
  },
  "language_info": {
   "codemirror_mode": {
    "name": "ipython",
    "version": 3
   },
   "file_extension": ".py",
   "mimetype": "text/x-python",
   "name": "python",
   "nbconvert_exporter": "python",
   "pygments_lexer": "ipython3",
   "version": "3.12.1"
  }
 },
 "nbformat": 4,
 "nbformat_minor": 2
}
